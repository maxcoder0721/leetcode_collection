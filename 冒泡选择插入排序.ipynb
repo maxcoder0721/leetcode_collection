{
 "cells": [
  {
   "cell_type": "markdown",
   "id": "53417144",
   "metadata": {},
   "source": [
    "数组：使用了“顺序储存结构”的一种“线性表”\n",
    "线性表：栈，队列。。。\n",
    "线性表的储存方式：链式储存，线性储存\n",
    "可以随机访问数据（寻址）\n",
    "- 计算机给一个数组分配了一组连续的存储空间，其中第一个元素开始的地址被称为首地址\n",
    "- 当计算机需要访问数组的某个元素时，会通过寻址公式计算出对应元素的内存地址\n",
    "- 寻址公式：下标 i 对应的数据元素地址 = 数据首地址 + i × 单个数据元素所占内存大小\n",
    "- 访问数据O(1)\n",
    "- 查找数据O(N)\n",
    "- 改变元素O(1)\n",
    "- 插入元素\n",
    "    - 末尾插入 ：append(data)  O(1)\n",
    "    - 中间插入 ：insert(index,data)  O(N)\n",
    "- 删除元素\n",
    "    - 末尾删除：pop() O(1)\n",
    "    - 中间删除：pop(index) O(N)\n",
    "    - 中间删除：remove(data) O(N)\n",
    "- 二维数组\n",
    "    - arr = [[0 for b in range(j)]for a in range(i)]\n",
    "    \n",
    "***leetcode:ex.66;ex.189;ex.238;ex.435;ex.724*** \n",
    "\n",
    "- 双指针 26 125 167 344 345\n",
    "    - 如果两个指针方向相反，则称为「对撞指针」\n",
    "    - 如果两个指针方向相同，则称为「快慢指针」\n",
    "    - 如果两个指针分别属于不同的数组 / 链表，则称为「分离双指针」\n",
    "    \n",
    "- 数组排序方法\n",
    "    - 冒泡排序 283\n",
    "    - 插入排序 075\n",
    "    - 选择排序 \n",
    "    - 归并排序 088\n",
    "    - 快速排序\n",
    "        \n",
    "\n",
    "\n",
    "\n",
    "\n",
    "\n",
    "\n",
    "\n",
    "\n",
    "\n"
   ]
  },
  {
   "cell_type": "code",
   "execution_count": 21,
   "id": "f9a49f48",
   "metadata": {},
   "outputs": [
    {
     "data": {
      "text/plain": [
       "[24, 12, 8, 6]"
      ]
     },
     "execution_count": 21,
     "metadata": {},
     "output_type": "execute_result"
    }
   ],
   "source": [
    "def productExceptSelf(nums):\n",
    "        answer = []\n",
    "        N = len(nums)\n",
    "        L = 0\n",
    "        R = 0\n",
    "        result = 1\n",
    "        while L < N:\n",
    "            if L == R:\n",
    "                if L == N - 1:\n",
    "                    answer.append(result)\n",
    "                    return answer\n",
    "                else:\n",
    "                    R += 1\n",
    "                    continue\n",
    "            \n",
    "                \n",
    "            result *= nums[R]\n",
    "            R += 1\n",
    "            if R == N:\n",
    "                R = 0\n",
    "                L += 1\n",
    "                answer.append(result)\n",
    "                result = 1\n",
    "productExceptSelf([1,2,3,4])\n"
   ]
  },
  {
   "cell_type": "code",
   "execution_count": 40,
   "id": "b55e4e55",
   "metadata": {},
   "outputs": [
    {
     "name": "stdout",
     "output_type": "stream",
     "text": [
      "[4, 3, 2, 1]\n",
      "[1, 2, 3, 4]\n"
     ]
    }
   ],
   "source": [
    "liste = [1,2,3,4]\n",
    "print(liste[::-1])\n",
    "print(liste)"
   ]
  },
  {
   "cell_type": "code",
   "execution_count": 43,
   "id": "3646a995",
   "metadata": {},
   "outputs": [
    {
     "data": {
      "text/plain": [
       "[1, 2, 3, 4]"
      ]
     },
     "execution_count": 43,
     "metadata": {},
     "output_type": "execute_result"
    }
   ],
   "source": [
    "liste = [1,2,3,4]\n",
    "liste[1:3]\n",
    "liste"
   ]
  },
  {
   "cell_type": "code",
   "execution_count": 49,
   "id": "5693dbb3",
   "metadata": {},
   "outputs": [
    {
     "name": "stdout",
     "output_type": "stream",
     "text": [
      "[0, 3, 0] [0, 3, 0]\n"
     ]
    },
    {
     "data": {
      "text/plain": [
       "list"
      ]
     },
     "execution_count": 49,
     "metadata": {},
     "output_type": "execute_result"
    }
   ],
   "source": [
    "liste1 = liste2 = [0,0,0]\n",
    "liste1[1] = 3\n",
    "print(liste1,liste2)\n"
   ]
  },
  {
   "cell_type": "code",
   "execution_count": 28,
   "id": "95b80717",
   "metadata": {},
   "outputs": [
    {
     "name": "stdout",
     "output_type": "stream",
     "text": [
      "[0, 0, 9, 0, 0]\n"
     ]
    }
   ],
   "source": [
    "produit = 1\n",
    "produit_list1 = []\n",
    "produit_list2 = []\n",
    "answer = []\n",
    "nums = [-1,1,0,-3,3]\n",
    "for a in nums:\n",
    "    produit *= a\n",
    "    produit_list1.append(produit)\n",
    "produit = 1\n",
    "for b in reversed(nums):\n",
    "    produit *= b\n",
    "    produit_list2.append(produit)\n",
    "for c in range(len(nums)):\n",
    "    L = 1\n",
    "    R = 1\n",
    "    if c == 0:\n",
    "        L = 1\n",
    "        R = produit_list2[-2]\n",
    "    elif c == len(nums) - 1:\n",
    "        L = produit_list1[c - 1]\n",
    "        R = 1\n",
    "    else: \n",
    "        L *= produit_list1[c - 1]\n",
    "        R *= produit_list2[len(nums) - c - 2]\n",
    "    answer.append(L * R)\n",
    "print(answer)\n",
    "    \n",
    "        \n",
    "       "
   ]
  },
  {
   "cell_type": "code",
   "execution_count": null,
   "id": "1ea0ba6a",
   "metadata": {},
   "outputs": [],
   "source": [
    "cnt_tourner = 0\n",
    "nums = [4,5,6,7,0,1,2]\n",
    "target = 5\n",
    "for a in range(len(nums) - 1):\n",
    "    if nums[a] < nums[a + 1]:\n",
    "        cnt_tourner += 1\n",
    "    else:\n",
    "        break\n",
    "nums[:] = nums[:cnt_tourner + 1]\n",
    "nums2[:] = \n",
    "print(nums)\n",
    "L = 0\n",
    "R = len(nums) - 1\n",
    "M = (L + R) // 2\n",
    "print(L,M,R)\n",
    "while L <= R:\n",
    "    \n",
    "    if nums[M] == target:\n",
    "        if M >= cnt_tourner:\n",
    "            print(M - 3)\n",
    "            break\n",
    "        else:\n",
    "            print(M + 4)\n",
    "            break\n",
    "    elif nums[M] > target:\n",
    "        M = R - 1\n",
    "        M = (L + R) // 2\n",
    "    else:\n",
    "        M = L + 1\n",
    "        M = (L + R) // 2\n",
    "print(-1)\n",
    "\n",
    "\n",
    "                        \n",
    "\n"
   ]
  },
  {
   "cell_type": "code",
   "execution_count": null,
   "id": "0fb22330",
   "metadata": {},
   "outputs": [],
   "source": [
    "index = 0\n",
    "nums = [3,4,5,1,2]\n",
    "for a in range(len(nums) - 1):\n",
    "    if nums[a] < nums[a + 1]:\n",
    "        index += 1\n",
    "nums[:] = nums[index + 1:] + nums[:index + 1]\n",
    "print(nums)"
   ]
  },
  {
   "cell_type": "code",
   "execution_count": 63,
   "id": "6c2b03dc",
   "metadata": {},
   "outputs": [
    {
     "name": "stdout",
     "output_type": "stream",
     "text": [
      "3 2\n"
     ]
    },
    {
     "ename": "IndexError",
     "evalue": "list index out of range",
     "output_type": "error",
     "traceback": [
      "\u001b[1;31m---------------------------------------------------------------------------\u001b[0m",
      "\u001b[1;31mIndexError\u001b[0m                                Traceback (most recent call last)",
      "Cell \u001b[1;32mIn[63], line 9\u001b[0m\n\u001b[0;32m      7\u001b[0m layer \u001b[38;5;241m=\u001b[39m \u001b[38;5;241m1\u001b[39m\n\u001b[0;32m      8\u001b[0m \u001b[38;5;28mprint\u001b[39m(mat[x][y],mat[n][m])\n\u001b[1;32m----> 9\u001b[0m \u001b[38;5;28;01mwhile\u001b[39;00m mat[x][y] \u001b[38;5;241m!=\u001b[39m mat[n][m]:\n\u001b[0;32m     10\u001b[0m     \u001b[38;5;28;01mif\u001b[39;00m x \u001b[38;5;241m==\u001b[39m y \u001b[38;5;241m==\u001b[39m \u001b[38;5;241m0\u001b[39m:\n\u001b[0;32m     11\u001b[0m         answer\u001b[38;5;241m.\u001b[39mappend(mat[x][y])\n",
      "\u001b[1;31mIndexError\u001b[0m: list index out of range"
     ]
    }
   ],
   "source": [
    "mat = [[3],[2]]\n",
    "n = len(mat) - 1\n",
    "m = len(mat[0]) - 1\n",
    "answer = []\n",
    "x = 0\n",
    "y = 0\n",
    "layer = 1\n",
    "print(mat[x][y],mat[n][m])\n",
    "while mat[x][y] != mat[n][m]:\n",
    "    if x == y == 0:\n",
    "        answer.append(mat[x][y])\n",
    "        y += 1\n",
    "        layer += 1\n",
    "\n",
    "        continue\n",
    "    print(answer)\n",
    "    if layer % 2 == 1:\n",
    "        while True:\n",
    "            answer.append(mat[x][y])\n",
    "            x -= 1\n",
    "            y += 1\n",
    "            if y > m:\n",
    "                x += 2\n",
    "                y -= 1\n",
    "                layer += 1\n",
    "                break\n",
    "            if x < 0:\n",
    "                x += 1\n",
    "                layer += 1\n",
    "                break\n",
    "    \n",
    "    if layer % 2 == 0:\n",
    "        while True:\n",
    "            answer.append(mat[x][y])\n",
    "            x += 1\n",
    "            y -= 1\n",
    "            if y < 0 and x > n:\n",
    "                y += 2\n",
    "                x -=1\n",
    "                layer += 1\n",
    "                break\n",
    "            if y < 0:\n",
    "                y += 1\n",
    "                layer += 1\n",
    "                break\n",
    "            if x > n:\n",
    "                x -= 1\n",
    "                y += 2\n",
    "                layer += 1\n",
    "                break\n",
    "\n",
    "    print(answer)\n"
   ]
  },
  {
   "cell_type": "code",
   "execution_count": 30,
   "id": "6b430242",
   "metadata": {},
   "outputs": [
    {
     "name": "stdout",
     "output_type": "stream",
     "text": [
      "[1, 2, 3, 3, 4, 4, 4, 5, 5, 5, 6, 7, 12, 34, 56, 56, 13424]\n",
      "[1, 2, 3, 3, 4, 4, 4, 5, 5, 5, 6, 7, 12, 34, 56, 56, 13424]\n",
      "[1, 2, 3, 4, 5, 6, 7, 8, 9, 10]\n"
     ]
    }
   ],
   "source": [
    "#冒泡排序\n",
    "def bubble_sort(arr):\n",
    "    for a in range(len(arr)):\n",
    "        for b in range(len(arr) - 1 - a):\n",
    "            if arr[b] > arr[b + 1]:\n",
    "                arr[b],arr[b + 1] = arr[b + 1],arr[b]\n",
    "    return arr\n",
    "\n",
    "\n",
    "#选择排序\n",
    "def selection_sort(arr):\n",
    "    \n",
    "    index = 0\n",
    "    for a in range(len(arr)):\n",
    "        minValue = 4294967296\n",
    "        for b in range(a,len(arr)):\n",
    "            if arr[b] < minValue:\n",
    "                minValue = arr[b]\n",
    "                index = b\n",
    "        arr[a],arr[index] = arr[index],arr[a]\n",
    "    return arr \n",
    "\n",
    "\n",
    "#插入排序\n",
    "def insert_sort(arr):\n",
    "    for a in range(1,len(arr)):\n",
    "        for b in range(a,0,-1):\n",
    "            if arr[b] > arr[b - 1]:\n",
    "                arr[b],arr[b - 1] = arr[b - 1],arr[b]\n",
    "    return arr\n",
    "arr = [3,4,12,5,6,2,5,7,1,3,56,4,56,4,13424,34,5]\n",
    "arr2 = [3,4,12,5,6,2,5,7,1,3,56,4,56,4,13424,34,5]\n",
    "arr3 = [9,8,7,6,5,4,3,2,1,10]\n",
    "\n",
    "print(bubble_sort(arr))  \n",
    "print(selection_sort(arr2))\n",
    "print(selection_sort(arr3))"
   ]
  },
  {
   "cell_type": "code",
   "execution_count": null,
   "id": "33d601bd",
   "metadata": {},
   "outputs": [],
   "source": []
  }
 ],
 "metadata": {
  "kernelspec": {
   "display_name": "Python 3 (ipykernel)",
   "language": "python",
   "name": "python3"
  },
  "language_info": {
   "codemirror_mode": {
    "name": "ipython",
    "version": 3
   },
   "file_extension": ".py",
   "mimetype": "text/x-python",
   "name": "python",
   "nbconvert_exporter": "python",
   "pygments_lexer": "ipython3",
   "version": "3.11.5"
  }
 },
 "nbformat": 4,
 "nbformat_minor": 5
}
